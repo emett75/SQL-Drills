{
 "cells": [
  {
   "cell_type": "markdown",
   "metadata": {},
   "source": [
    "#Examples from the Text"
   ]
  },
  {
   "cell_type": "code",
   "execution_count": 32,
   "metadata": {},
   "outputs": [
    {
     "name": "stdout",
     "output_type": "stream",
     "text": [
      "True\n"
     ]
    }
   ],
   "source": [
    "import pandas as pd\n",
    "\n",
    "sample_string = 'take 5'\n",
    "print(sample_string[4:5].isspace())\n",
    "\n",
    "# Experiment on the sample string below using the other methods listed above.\n",
    "# What does each do? When would they be useful? What hapens when you try them\n",
    "# on different slices of the sample string, like sample_string[:4]?\n"
   ]
  },
  {
   "cell_type": "code",
   "execution_count": 36,
   "metadata": {},
   "outputs": [
    {
     "name": "stdout",
     "output_type": "stream",
     "text": [
      "0     True\n",
      "1     True\n",
      "2    False\n",
      "3     True\n",
      "4     True\n",
      "5     True\n",
      "dtype: bool\n"
     ]
    }
   ],
   "source": [
    "money = pd.Series([400, 111, '$20', 57, 'q7', 'Lots'])\n",
    "\n",
    "# Running `money.isdigit()` throws an error because .isdigit() is a string\n",
    "# attribute, _not_ a series attribute. Uncomment the line below to see.\n",
    "\n",
    "# print(money.isdigit())\n",
    "\n",
    "# Instead, let's define a new function that takes a string as an argument\n",
    "# and returns True if the string is all digits, otherwise False.\n",
    "\n",
    "def is_a_string(x):\n",
    "    # First make sure we're operating on a string, then use our string method.\n",
    "    return str(x).isalnum()\n",
    "\n",
    "# Now let's apply our custom function to each element in our series.\n",
    "print(money.apply(is_a_string))"
   ]
  },
  {
   "cell_type": "code",
   "execution_count": 38,
   "metadata": {},
   "outputs": [
    {
     "name": "stdout",
     "output_type": "stream",
     "text": [
      "0     True\n",
      "1     True\n",
      "2    False\n",
      "3     True\n",
      "4     True\n",
      "dtype: bool\n"
     ]
    }
   ],
   "source": [
    "# Dirty list\n",
    "money = pd.Series([400, 111, '$20', 57, 'Lots'])\n",
    "\n",
    "# Here's a lambda function that mirrors the is_a_digit function above.\n",
    "# Read this print statement carefully and compare to the previous one.\n",
    "print(money.apply(lambda x: str(x).isalnum()))"
   ]
  },
  {
   "cell_type": "code",
   "execution_count": 40,
   "metadata": {},
   "outputs": [
    {
     "name": "stdout",
     "output_type": "stream",
     "text": [
      "Filtering the whole series:\n",
      "[400, 111, 57, 'Lots']\n",
      "\n",
      "Applying filter() to each value in the series:\n",
      "0     400\n",
      "1     111\n",
      "2      20\n",
      "3      57\n",
      "4    Lots\n",
      "dtype: object\n"
     ]
    }
   ],
   "source": [
    "# We're using list() on the result because filter() returns an iterator.\n",
    "\n",
    "print('Filtering the whole series:')\n",
    "print(list(filter(lambda x: str(x).isalnum(), money)))\n",
    "\n",
    "print('\\nApplying filter() to each value in the series:')\n",
    "print(money.apply(lambda x: ''.join(list(filter(str.isalnum, str(x))))))"
   ]
  },
  {
   "cell_type": "code",
   "execution_count": 44,
   "metadata": {},
   "outputs": [
    {
     "name": "stdout",
     "output_type": "stream",
     "text": [
      "                    0            1\n",
      "0  MollyMalone$molmal    gmail.com\n",
      "1  JeffreyJones$jefjo  hotmail.com\n",
      "2   DeadParrot$fjords    gmail.com\n"
     ]
    }
   ],
   "source": [
    "# Create a series of dirty, annoying strings.\n",
    "words = pd.Series([\n",
    "    'MollyMalone$molmal@gmail.com',\n",
    "    'JeffreyJones$jefjo@hotmail.com',\n",
    "    'DeadParrot$fjords@gmail.com'\n",
    "])\n",
    "\n",
    "# Split on '$'. We'll use the Pandas split method.\n",
    "word_split = words.str.split('@', expand=True)\n",
    "names = word_split[0]\n",
    "emails = word_split[1]\n",
    "print(word_split)"
   ]
  },
  {
   "cell_type": "code",
   "execution_count": 9,
   "metadata": {},
   "outputs": [
    {
     "name": "stdout",
     "output_type": "stream",
     "text": [
      "  0       1      2\n",
      "0      olly  alone\n",
      "1    effrey   ones\n",
      "2       ead  arrot\n"
     ]
    }
   ],
   "source": [
    "# Splitting on capital letters.\n",
    "# Just because we can doesn't mean we should:\n",
    "print(names.str.split('[A-Z]', expand=True))"
   ]
  },
  {
   "cell_type": "code",
   "execution_count": 64,
   "metadata": {},
   "outputs": [
    {
     "name": "stdout",
     "output_type": "stream",
     "text": [
      "0      MollyMal\n",
      "1    JeffreyJon\n",
      "2       DeadPar\n",
      "dtype: object \n",
      "\n",
      "0    Malone\n",
      "1     Jones\n",
      "2    Parrot\n",
      "dtype: object\n"
     ]
    }
   ],
   "source": [
    "import re\n",
    "\n",
    "words = pd.Series([\n",
    "    'MollyMalone$molmal@gmail.com',\n",
    "    'JeffreyJones$jefjo@hotmail.com',\n",
    "    'DeadParrot$fjords@gmail.com'])\n",
    "\n",
    "# We expect the first name to follow the first capital letter.\n",
    "firstname = words.apply(lambda x: re.findall('[A-Z][a-z]*[A-Z][a-z]{2}', x)[0])\n",
    "\n",
    "# We expect the last name to follow the second capital letter.\n",
    "lastname = words.apply(lambda x: re.findall('[A-Z][a-z]*', x)[1])\n",
    "\n",
    "print(firstname, '\\n')\n",
    "print(lastname)"
   ]
  },
  {
   "cell_type": "code",
   "execution_count": 67,
   "metadata": {},
   "outputs": [
    {
     "name": "stdout",
     "output_type": "stream",
     "text": [
      "0      gmail.com\n",
      "1    hotmail.com\n",
      "2      gmail.com\n",
      "Name: 1, dtype: object\n"
     ]
    }
   ],
   "source": [
    "print(emails)"
   ]
  },
  {
   "cell_type": "code",
   "execution_count": 69,
   "metadata": {},
   "outputs": [
    {
     "name": "stdout",
     "output_type": "stream",
     "text": [
      "0      gmail$com\n",
      "1    hotmail$com\n",
      "2      gmail$com\n",
      "Name: 1, dtype: object \n",
      "\n",
      "0      gmail\n",
      "1    hotmail\n",
      "2      gmail\n",
      "Name: 1, dtype: object\n"
     ]
    }
   ],
   "source": [
    "print(emails.str.replace('.', '$'),'\\n')\n",
    "\n",
    "print(emails.str.replace('.com', ''))"
   ]
  },
  {
   "cell_type": "code",
   "execution_count": 12,
   "metadata": {},
   "outputs": [
    {
     "name": "stdout",
     "output_type": "stream",
     "text": [
      "0     mollymalone\n",
      "1    jeffreyjones\n",
      "2      deadparrot\n",
      "Name: 0, dtype: object \n",
      "\n",
      "0     MOLLYMALONE\n",
      "1    JEFFREYJONES\n",
      "2      DEADPARROT\n",
      "Name: 0, dtype: object \n",
      "\n",
      "0     Mollymalone\n",
      "1    Jeffreyjones\n",
      "2      Deadparrot\n",
      "Name: 0, dtype: object\n"
     ]
    }
   ],
   "source": [
    "print(names.str.lower(), '\\n')\n",
    "print(names.str.upper(), '\\n')\n",
    "print(names.str.capitalize())"
   ]
  },
  {
   "cell_type": "code",
   "execution_count": 13,
   "metadata": {},
   "outputs": [
    {
     "name": "stdout",
     "output_type": "stream",
     "text": [
      "   What, on earth, is going on here?      \n",
      "What, on earth, is going on here?\n"
     ]
    }
   ],
   "source": [
    "spacy = '   What, on earth, is going on here?      '\n",
    "print(spacy)\n",
    "print(spacy.strip())"
   ]
  },
  {
   "cell_type": "code",
   "execution_count": 14,
   "metadata": {
    "scrolled": true
   },
   "outputs": [
    {
     "name": "stdout",
     "output_type": "stream",
     "text": [
      "False\n",
      "True\n"
     ]
    }
   ],
   "source": [
    "# Series of strings with annoying whitespace.\n",
    "words = pd.Series([' duck', 'duck ', ' duck ', 'goose'])\n",
    "print(words[0] == words[1])\n",
    "\n",
    "stripped = words.str.strip()\n",
    "print(stripped[0] == stripped[1])"
   ]
  },
  {
   "cell_type": "markdown",
   "metadata": {},
   "source": [
    "#Drills - Cleaning Data - Lesson 3.5"
   ]
  },
  {
   "cell_type": "code",
   "execution_count": null,
   "metadata": {},
   "outputs": [],
   "source": []
  }
 ],
 "metadata": {
  "kernelspec": {
   "display_name": "Python 3",
   "language": "python",
   "name": "python3"
  },
  "language_info": {
   "codemirror_mode": {
    "name": "ipython",
    "version": 3
   },
   "file_extension": ".py",
   "mimetype": "text/x-python",
   "name": "python",
   "nbconvert_exporter": "python",
   "pygments_lexer": "ipython3",
   "version": "3.6.5"
  }
 },
 "nbformat": 4,
 "nbformat_minor": 2
}
